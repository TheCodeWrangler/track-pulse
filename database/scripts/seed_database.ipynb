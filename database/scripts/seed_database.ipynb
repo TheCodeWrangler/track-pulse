{
 "cells": [
  {
   "cell_type": "code",
   "execution_count": 2,
   "metadata": {},
   "outputs": [],
   "source": [
    "from database.db.connections import get_db\n",
    "\n",
    "db = next(get_db(True))"
   ]
  },
  {
   "cell_type": "markdown",
   "metadata": {},
   "source": [
    "## Object Types"
   ]
  },
  {
   "cell_type": "code",
   "execution_count": 3,
   "metadata": {},
   "outputs": [],
   "source": [
    "from database.db import models\n",
    "\n",
    "object_types = [\n",
    "    models.ObjectType(name=\"Cut Spike\"),\n",
    "    models.ObjectType(name=\"Screw Spike\"),\n",
    "    models.ObjectType(name=\"Elastic Fastener\"),\n",
    "    models.ObjectType(name=\"Anchor\"),\n",
    "    models.ObjectType(name=\"Crosstie\"),\n",
    "    models.ObjectType(name=\"Ballast\"),\n",
    "    models.ObjectType(name=\"Wood Tie\"),\n",
    "    models.ObjectType(name=\"Concrete Tie\")\n",
    "]\n",
    "\n",
    "for object_type in object_types:\n",
    "    db.add(object_type)\n",
    "db.commit()"
   ]
  },
  {
   "cell_type": "code",
   "execution_count": 5,
   "metadata": {},
   "outputs": [],
   "source": [
    "all_object_types = db.query(models.ObjectType).all()"
   ]
  },
  {
   "cell_type": "markdown",
   "metadata": {},
   "source": [
    "## Images and Depth Maps"
   ]
  },
  {
   "cell_type": "code",
   "execution_count": 8,
   "metadata": {},
   "outputs": [],
   "source": [
    "# Make three example objects\n",
    "import datetime\n",
    "import random\n",
    "\n",
    "for _ in range(3):\n",
    "    captured_datetime = datetime.datetime.now()\n",
    "    image = models.Image(\n",
    "        latitude=123,\n",
    "        longitude=456,\n",
    "        fp=\"gs://bucket/path/to/image.jpg\",\n",
    "        captured_datetime=captured_datetime\n",
    "    )\n",
    "    depth_map = models.DepthMap(\n",
    "        latitude=123,\n",
    "        longitude=456,\n",
    "        fp=\"gs://bucket/path/to/depth_map.jpg\",\n",
    "        captured_datetime=captured_datetime\n",
    "    )\n",
    "    db.add(image)\n",
    "    db.add(depth_map)\n",
    "    # make 5 objects for each image\n",
    "    for _ in range(5):\n",
    "        object = models.ObjectObservation(\n",
    "            pixel_region=\"need to figure out this representation\",\n",
    "            image=image,\n",
    "            depth_map=depth_map,\n",
    "            object_type=random.choice(all_object_types),\n",
    "        )\n",
    "        db.add(object)\n",
    "db.commit()\n"
   ]
  },
  {
   "cell_type": "code",
   "execution_count": 15,
   "metadata": {},
   "outputs": [
    {
     "data": {
      "text/plain": [
       "[ObjectObservation(pixel_region='need to figure out this representation', object_type_id=1, object_instance_id=None, id=8, created_datetime=datetime.datetime(2024, 4, 15, 1, 39, 8, 176222), image_id=5, depth_map_id=2),\n",
       " ObjectObservation(pixel_region='need to figure out this representation', object_type_id=1, object_instance_id=None, id=15, created_datetime=datetime.datetime(2024, 4, 15, 1, 39, 8, 176222), image_id=6, depth_map_id=3)]"
      ]
     },
     "execution_count": 15,
     "metadata": {},
     "output_type": "execute_result"
    }
   ],
   "source": [
    "# Get all object observations where the object_type.name is \"Cut Spike\"\n",
    "db.query(models.ObjectObservation).where(\n",
    "    models.ObjectObservation.object_type.has(name=\"Cut Spike\")\n",
    ").all()"
   ]
  },
  {
   "cell_type": "code",
   "execution_count": null,
   "metadata": {},
   "outputs": [],
   "source": []
  }
 ],
 "metadata": {
  "kernelspec": {
   "display_name": ".venv",
   "language": "python",
   "name": "python3"
  },
  "language_info": {
   "codemirror_mode": {
    "name": "ipython",
    "version": 3
   },
   "file_extension": ".py",
   "mimetype": "text/x-python",
   "name": "python",
   "nbconvert_exporter": "python",
   "pygments_lexer": "ipython3",
   "version": "3.11.3"
  }
 },
 "nbformat": 4,
 "nbformat_minor": 2
}
